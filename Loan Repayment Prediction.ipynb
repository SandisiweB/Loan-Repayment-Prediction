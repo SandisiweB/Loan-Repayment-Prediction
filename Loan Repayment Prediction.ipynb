{
 "cells": [
  {
   "cell_type": "markdown",
   "id": "489d35a7",
   "metadata": {},
   "source": [
    "# Loan Repayment Prediction"
   ]
  },
  {
   "cell_type": "markdown",
   "id": "015b74d2",
   "metadata": {},
   "source": [
    "**Problem Statement:**\n",
    "\n",
    "To predict whether if a customer will repay the loan amount or not using Decision Tree algorithm using python"
   ]
  },
  {
   "cell_type": "code",
   "execution_count": 2,
   "id": "69af248e",
   "metadata": {},
   "outputs": [],
   "source": [
    "#import libraries\n",
    "import numpy as np\n",
    "import pandas as pd\n",
    "from sklearn.model_selection import train_test_split\n",
    "from sklearn.tree import DecisionTreeClassifier\n",
    "from sklearn.metrics import accuracy_score\n",
    "from sklearn import tree"
   ]
  },
  {
   "cell_type": "code",
   "execution_count": 5,
   "id": "e86dfe5d",
   "metadata": {},
   "outputs": [
    {
     "data": {
      "text/html": [
       "<div>\n",
       "<style scoped>\n",
       "    .dataframe tbody tr th:only-of-type {\n",
       "        vertical-align: middle;\n",
       "    }\n",
       "\n",
       "    .dataframe tbody tr th {\n",
       "        vertical-align: top;\n",
       "    }\n",
       "\n",
       "    .dataframe thead th {\n",
       "        text-align: right;\n",
       "    }\n",
       "</style>\n",
       "<table border=\"1\" class=\"dataframe\">\n",
       "  <thead>\n",
       "    <tr style=\"text-align: right;\">\n",
       "      <th></th>\n",
       "      <th>initial_payment</th>\n",
       "      <th>last_payment</th>\n",
       "      <th>credit_score</th>\n",
       "      <th>house_number</th>\n",
       "      <th>sum</th>\n",
       "      <th>result</th>\n",
       "    </tr>\n",
       "  </thead>\n",
       "  <tbody>\n",
       "    <tr>\n",
       "      <th>0</th>\n",
       "      <td>201</td>\n",
       "      <td>10018</td>\n",
       "      <td>250</td>\n",
       "      <td>3046</td>\n",
       "      <td>13515</td>\n",
       "      <td>yes</td>\n",
       "    </tr>\n",
       "    <tr>\n",
       "      <th>1</th>\n",
       "      <td>205</td>\n",
       "      <td>10016</td>\n",
       "      <td>395</td>\n",
       "      <td>3044</td>\n",
       "      <td>13660</td>\n",
       "      <td>yes</td>\n",
       "    </tr>\n",
       "    <tr>\n",
       "      <th>2</th>\n",
       "      <td>257</td>\n",
       "      <td>10129</td>\n",
       "      <td>109</td>\n",
       "      <td>3251</td>\n",
       "      <td>13746</td>\n",
       "      <td>yes</td>\n",
       "    </tr>\n",
       "    <tr>\n",
       "      <th>3</th>\n",
       "      <td>246</td>\n",
       "      <td>10064</td>\n",
       "      <td>324</td>\n",
       "      <td>3137</td>\n",
       "      <td>13771</td>\n",
       "      <td>yes</td>\n",
       "    </tr>\n",
       "    <tr>\n",
       "      <th>4</th>\n",
       "      <td>117</td>\n",
       "      <td>10115</td>\n",
       "      <td>496</td>\n",
       "      <td>3094</td>\n",
       "      <td>13822</td>\n",
       "      <td>yes</td>\n",
       "    </tr>\n",
       "    <tr>\n",
       "      <th>...</th>\n",
       "      <td>...</td>\n",
       "      <td>...</td>\n",
       "      <td>...</td>\n",
       "      <td>...</td>\n",
       "      <td>...</td>\n",
       "      <td>...</td>\n",
       "    </tr>\n",
       "    <tr>\n",
       "      <th>995</th>\n",
       "      <td>413</td>\n",
       "      <td>14914</td>\n",
       "      <td>523</td>\n",
       "      <td>4683</td>\n",
       "      <td>20533</td>\n",
       "      <td>No</td>\n",
       "    </tr>\n",
       "    <tr>\n",
       "      <th>996</th>\n",
       "      <td>359</td>\n",
       "      <td>14423</td>\n",
       "      <td>927</td>\n",
       "      <td>4838</td>\n",
       "      <td>20547</td>\n",
       "      <td>No</td>\n",
       "    </tr>\n",
       "    <tr>\n",
       "      <th>997</th>\n",
       "      <td>316</td>\n",
       "      <td>14872</td>\n",
       "      <td>613</td>\n",
       "      <td>4760</td>\n",
       "      <td>20561</td>\n",
       "      <td>No</td>\n",
       "    </tr>\n",
       "    <tr>\n",
       "      <th>998</th>\n",
       "      <td>305</td>\n",
       "      <td>14926</td>\n",
       "      <td>897</td>\n",
       "      <td>4572</td>\n",
       "      <td>20700</td>\n",
       "      <td>No</td>\n",
       "    </tr>\n",
       "    <tr>\n",
       "      <th>999</th>\n",
       "      <td>168</td>\n",
       "      <td>14798</td>\n",
       "      <td>834</td>\n",
       "      <td>4937</td>\n",
       "      <td>20737</td>\n",
       "      <td>No</td>\n",
       "    </tr>\n",
       "  </tbody>\n",
       "</table>\n",
       "<p>1000 rows × 6 columns</p>\n",
       "</div>"
      ],
      "text/plain": [
       "     initial_payment  last_payment  credit_score  house_number    sum result\n",
       "0                201         10018           250          3046  13515    yes\n",
       "1                205         10016           395          3044  13660    yes\n",
       "2                257         10129           109          3251  13746    yes\n",
       "3                246         10064           324          3137  13771    yes\n",
       "4                117         10115           496          3094  13822    yes\n",
       "..               ...           ...           ...           ...    ...    ...\n",
       "995              413         14914           523          4683  20533     No\n",
       "996              359         14423           927          4838  20547     No\n",
       "997              316         14872           613          4760  20561     No\n",
       "998              305         14926           897          4572  20700     No\n",
       "999              168         14798           834          4937  20737     No\n",
       "\n",
       "[1000 rows x 6 columns]"
      ]
     },
     "execution_count": 5,
     "metadata": {},
     "output_type": "execute_result"
    }
   ],
   "source": [
    "balance_data = pd.read_csv(r'C:\\Users\\Sandiswe Buthelezi\\Downloads\\Loans_Dataset.csv')\n",
    "balance_data"
   ]
  },
  {
   "cell_type": "markdown",
   "id": "ca354742",
   "metadata": {},
   "source": [
    "### Building and Training the Decision Tree Model"
   ]
  },
  {
   "cell_type": "code",
   "execution_count": 8,
   "id": "85f23c46",
   "metadata": {},
   "outputs": [
    {
     "data": {
      "text/html": [
       "<style>#sk-container-id-1 {color: black;background-color: white;}#sk-container-id-1 pre{padding: 0;}#sk-container-id-1 div.sk-toggleable {background-color: white;}#sk-container-id-1 label.sk-toggleable__label {cursor: pointer;display: block;width: 100%;margin-bottom: 0;padding: 0.3em;box-sizing: border-box;text-align: center;}#sk-container-id-1 label.sk-toggleable__label-arrow:before {content: \"▸\";float: left;margin-right: 0.25em;color: #696969;}#sk-container-id-1 label.sk-toggleable__label-arrow:hover:before {color: black;}#sk-container-id-1 div.sk-estimator:hover label.sk-toggleable__label-arrow:before {color: black;}#sk-container-id-1 div.sk-toggleable__content {max-height: 0;max-width: 0;overflow: hidden;text-align: left;background-color: #f0f8ff;}#sk-container-id-1 div.sk-toggleable__content pre {margin: 0.2em;color: black;border-radius: 0.25em;background-color: #f0f8ff;}#sk-container-id-1 input.sk-toggleable__control:checked~div.sk-toggleable__content {max-height: 200px;max-width: 100%;overflow: auto;}#sk-container-id-1 input.sk-toggleable__control:checked~label.sk-toggleable__label-arrow:before {content: \"▾\";}#sk-container-id-1 div.sk-estimator input.sk-toggleable__control:checked~label.sk-toggleable__label {background-color: #d4ebff;}#sk-container-id-1 div.sk-label input.sk-toggleable__control:checked~label.sk-toggleable__label {background-color: #d4ebff;}#sk-container-id-1 input.sk-hidden--visually {border: 0;clip: rect(1px 1px 1px 1px);clip: rect(1px, 1px, 1px, 1px);height: 1px;margin: -1px;overflow: hidden;padding: 0;position: absolute;width: 1px;}#sk-container-id-1 div.sk-estimator {font-family: monospace;background-color: #f0f8ff;border: 1px dotted black;border-radius: 0.25em;box-sizing: border-box;margin-bottom: 0.5em;}#sk-container-id-1 div.sk-estimator:hover {background-color: #d4ebff;}#sk-container-id-1 div.sk-parallel-item::after {content: \"\";width: 100%;border-bottom: 1px solid gray;flex-grow: 1;}#sk-container-id-1 div.sk-label:hover label.sk-toggleable__label {background-color: #d4ebff;}#sk-container-id-1 div.sk-serial::before {content: \"\";position: absolute;border-left: 1px solid gray;box-sizing: border-box;top: 0;bottom: 0;left: 50%;z-index: 0;}#sk-container-id-1 div.sk-serial {display: flex;flex-direction: column;align-items: center;background-color: white;padding-right: 0.2em;padding-left: 0.2em;position: relative;}#sk-container-id-1 div.sk-item {position: relative;z-index: 1;}#sk-container-id-1 div.sk-parallel {display: flex;align-items: stretch;justify-content: center;background-color: white;position: relative;}#sk-container-id-1 div.sk-item::before, #sk-container-id-1 div.sk-parallel-item::before {content: \"\";position: absolute;border-left: 1px solid gray;box-sizing: border-box;top: 0;bottom: 0;left: 50%;z-index: -1;}#sk-container-id-1 div.sk-parallel-item {display: flex;flex-direction: column;z-index: 1;position: relative;background-color: white;}#sk-container-id-1 div.sk-parallel-item:first-child::after {align-self: flex-end;width: 50%;}#sk-container-id-1 div.sk-parallel-item:last-child::after {align-self: flex-start;width: 50%;}#sk-container-id-1 div.sk-parallel-item:only-child::after {width: 0;}#sk-container-id-1 div.sk-dashed-wrapped {border: 1px dashed gray;margin: 0 0.4em 0.5em 0.4em;box-sizing: border-box;padding-bottom: 0.4em;background-color: white;}#sk-container-id-1 div.sk-label label {font-family: monospace;font-weight: bold;display: inline-block;line-height: 1.2em;}#sk-container-id-1 div.sk-label-container {text-align: center;}#sk-container-id-1 div.sk-container {/* jupyter's `normalize.less` sets `[hidden] { display: none; }` but bootstrap.min.css set `[hidden] { display: none !important; }` so we also need the `!important` here to be able to override the default hidden behavior on the sphinx rendered scikit-learn.org. See: https://github.com/scikit-learn/scikit-learn/issues/21755 */display: inline-block !important;position: relative;}#sk-container-id-1 div.sk-text-repr-fallback {display: none;}</style><div id=\"sk-container-id-1\" class=\"sk-top-container\"><div class=\"sk-text-repr-fallback\"><pre>DecisionTreeClassifier(criterion=&#x27;entropy&#x27;, max_depth=3, min_samples_leaf=5,\n",
       "                       random_state=100)</pre><b>In a Jupyter environment, please rerun this cell to show the HTML representation or trust the notebook. <br />On GitHub, the HTML representation is unable to render, please try loading this page with nbviewer.org.</b></div><div class=\"sk-container\" hidden><div class=\"sk-item\"><div class=\"sk-estimator sk-toggleable\"><input class=\"sk-toggleable__control sk-hidden--visually\" id=\"sk-estimator-id-1\" type=\"checkbox\" checked><label for=\"sk-estimator-id-1\" class=\"sk-toggleable__label sk-toggleable__label-arrow\">DecisionTreeClassifier</label><div class=\"sk-toggleable__content\"><pre>DecisionTreeClassifier(criterion=&#x27;entropy&#x27;, max_depth=3, min_samples_leaf=5,\n",
       "                       random_state=100)</pre></div></div></div></div></div>"
      ],
      "text/plain": [
       "DecisionTreeClassifier(criterion='entropy', max_depth=3, min_samples_leaf=5,\n",
       "                       random_state=100)"
      ]
     },
     "execution_count": 8,
     "metadata": {},
     "output_type": "execute_result"
    }
   ],
   "source": [
    "#Seperating the target variable\n",
    "X = balance_data.iloc[:, 0:4].values\n",
    "Y = balance_data.iloc[:, -1].values\n",
    "\n",
    "#Splitting the dataset into a Test set and Train set\n",
    "X_test, X_train, Y_test, Y_train = train_test_split(X, Y, test_size=0.3, random_state=100)\n",
    "\n",
    "#Function to perform training with Entropy\n",
    "entropy_dtc = DecisionTreeClassifier( criterion = 'entropy', random_state=100, max_depth=3, min_samples_leaf=5)\n",
    "entropy_dtc.fit(X_train, Y_train)"
   ]
  },
  {
   "cell_type": "markdown",
   "id": "33575b96",
   "metadata": {},
   "source": [
    "### Testing the Decision Tree Model"
   ]
  },
  {
   "cell_type": "code",
   "execution_count": 9,
   "id": "016c8df3",
   "metadata": {},
   "outputs": [
    {
     "data": {
      "text/plain": [
       "array(['No', 'yes', 'yes', 'yes', 'No', 'yes', 'No', 'yes', 'No', 'yes',\n",
       "       'No', 'yes', 'yes', 'No', 'yes', 'No', 'No', 'No', 'yes', 'yes',\n",
       "       'No', 'yes', 'No', 'yes', 'No', 'yes', 'yes', 'yes', 'No', 'No',\n",
       "       'yes', 'yes', 'No', 'yes', 'yes', 'No', 'yes', 'No', 'No', 'yes',\n",
       "       'yes', 'No', 'No', 'No', 'No', 'yes', 'yes', 'No', 'No', 'yes',\n",
       "       'No', 'No', 'yes', 'No', 'No', 'yes', 'No', 'No', 'yes', 'yes',\n",
       "       'No', 'yes', 'yes', 'No', 'yes', 'yes', 'yes', 'No', 'yes', 'No',\n",
       "       'No', 'No', 'yes', 'No', 'No', 'yes', 'yes', 'yes', 'yes', 'No',\n",
       "       'yes', 'yes', 'yes', 'yes', 'No', 'No', 'yes', 'No', 'No', 'No',\n",
       "       'yes', 'yes', 'No', 'yes', 'yes', 'yes', 'No', 'yes', 'yes', 'yes',\n",
       "       'No', 'yes', 'No', 'No', 'No', 'No', 'yes', 'No', 'yes', 'No',\n",
       "       'yes', 'yes', 'No', 'No', 'yes', 'yes', 'No', 'yes', 'yes', 'No',\n",
       "       'No', 'No', 'No', 'yes', 'No', 'No', 'No', 'No', 'No', 'No', 'yes',\n",
       "       'No', 'No', 'No', 'No', 'yes', 'No', 'yes', 'yes', 'No', 'No',\n",
       "       'No', 'No', 'No', 'No', 'No', 'yes', 'yes', 'No', 'No', 'No', 'No',\n",
       "       'No', 'No', 'No', 'No', 'No', 'yes', 'No', 'No', 'yes', 'No',\n",
       "       'yes', 'yes', 'yes', 'No', 'No', 'No', 'yes', 'No', 'yes', 'yes',\n",
       "       'No', 'No', 'No', 'No', 'No', 'yes', 'yes', 'No', 'yes', 'No',\n",
       "       'yes', 'No', 'yes', 'No', 'No', 'yes', 'No', 'yes', 'yes', 'yes',\n",
       "       'No', 'No', 'No', 'No', 'No', 'No', 'No', 'yes', 'yes', 'No', 'No',\n",
       "       'yes', 'yes', 'yes', 'No', 'yes', 'yes', 'yes', 'yes', 'No', 'yes',\n",
       "       'No', 'No', 'yes', 'No', 'No', 'No', 'yes', 'yes', 'No', 'yes',\n",
       "       'yes', 'yes', 'yes', 'yes', 'No', 'No', 'No', 'No', 'No', 'No',\n",
       "       'No', 'No', 'No', 'yes', 'yes', 'yes', 'yes', 'yes', 'No', 'yes',\n",
       "       'yes', 'No', 'yes', 'No', 'No', 'No', 'No', 'No', 'No', 'yes',\n",
       "       'No', 'yes', 'yes', 'No', 'No', 'yes', 'No', 'No', 'yes', 'No',\n",
       "       'yes', 'No', 'No', 'yes', 'No', 'yes', 'No', 'yes', 'yes', 'No',\n",
       "       'No', 'yes', 'yes', 'yes', 'No', 'No', 'No', 'yes', 'No', 'No',\n",
       "       'No', 'No', 'No', 'No', 'yes', 'yes', 'No', 'No', 'No', 'yes',\n",
       "       'No', 'No', 'yes', 'yes', 'No', 'No', 'No', 'yes', 'No', 'yes',\n",
       "       'yes', 'yes', 'yes', 'yes', 'No', 'No', 'yes', 'yes', 'No', 'yes',\n",
       "       'No', 'No', 'No', 'yes', 'yes', 'yes', 'No', 'yes', 'yes', 'No',\n",
       "       'yes', 'yes', 'yes', 'yes', 'yes', 'yes', 'No', 'No', 'yes', 'No',\n",
       "       'yes', 'No', 'No', 'yes', 'No', 'No', 'yes', 'No', 'No', 'yes',\n",
       "       'No', 'yes', 'No', 'yes', 'yes', 'No', 'No', 'yes', 'No', 'yes',\n",
       "       'No', 'No', 'No', 'No', 'yes', 'No', 'No', 'No', 'yes', 'No', 'No',\n",
       "       'yes', 'No', 'No', 'No', 'yes', 'yes', 'yes', 'yes', 'No', 'No',\n",
       "       'No', 'yes', 'No', 'No', 'yes', 'No', 'yes', 'No', 'No', 'No',\n",
       "       'yes', 'No', 'No', 'yes', 'No', 'yes', 'No', 'yes', 'yes', 'yes',\n",
       "       'yes', 'No', 'No', 'yes', 'yes', 'No', 'No', 'No', 'yes', 'No',\n",
       "       'No', 'yes', 'No', 'No', 'yes', 'yes', 'No', 'No', 'No', 'No',\n",
       "       'No', 'No', 'No', 'No', 'yes', 'No', 'No', 'yes', 'No', 'yes',\n",
       "       'No', 'No', 'yes', 'yes', 'No', 'No', 'yes', 'yes', 'No', 'No',\n",
       "       'No', 'No', 'No', 'No', 'yes', 'No', 'No', 'yes', 'No', 'No', 'No',\n",
       "       'No', 'yes', 'yes', 'No', 'No', 'yes', 'yes', 'yes', 'No', 'No',\n",
       "       'yes', 'yes', 'No', 'yes', 'yes', 'yes', 'yes', 'No', 'yes', 'No',\n",
       "       'No', 'No', 'No', 'No', 'No', 'yes', 'yes', 'No', 'No', 'yes',\n",
       "       'No', 'yes', 'No', 'yes', 'No', 'No', 'yes', 'yes', 'No', 'No',\n",
       "       'No', 'yes', 'No', 'No', 'yes', 'No', 'yes', 'yes', 'No', 'yes',\n",
       "       'yes', 'No', 'No', 'No', 'No', 'No', 'No', 'No', 'No', 'yes',\n",
       "       'yes', 'yes', 'yes', 'yes', 'No', 'yes', 'No', 'yes', 'yes', 'yes',\n",
       "       'yes', 'yes', 'No', 'No', 'No', 'No', 'No', 'yes', 'yes', 'yes',\n",
       "       'No', 'No', 'yes', 'No', 'yes', 'No', 'No', 'No', 'yes', 'No',\n",
       "       'yes', 'yes', 'yes', 'No', 'yes', 'No', 'yes', 'No', 'yes', 'yes',\n",
       "       'No', 'No', 'No', 'No', 'yes', 'No', 'yes', 'No', 'No', 'No',\n",
       "       'yes', 'yes', 'No', 'yes', 'No', 'yes', 'No', 'No', 'No', 'No',\n",
       "       'yes', 'No', 'yes', 'No', 'yes', 'No', 'yes', 'yes', 'No', 'yes',\n",
       "       'No', 'No', 'yes', 'yes', 'yes', 'No', 'No', 'yes', 'No', 'No',\n",
       "       'yes', 'yes', 'No', 'yes', 'No', 'yes', 'yes', 'yes', 'No', 'No',\n",
       "       'yes', 'No', 'yes', 'yes', 'No', 'No', 'yes', 'No', 'yes', 'yes',\n",
       "       'No', 'yes', 'No', 'No', 'yes', 'yes', 'yes', 'yes', 'yes', 'yes',\n",
       "       'No', 'No', 'yes', 'No', 'No', 'yes', 'No', 'yes', 'yes', 'No',\n",
       "       'yes', 'No', 'yes', 'No', 'yes', 'yes', 'yes', 'yes', 'No', 'No',\n",
       "       'No', 'No', 'No', 'No', 'yes', 'No', 'yes', 'yes', 'yes', 'yes',\n",
       "       'yes', 'No', 'No', 'yes', 'yes', 'No', 'No', 'No', 'yes', 'No',\n",
       "       'yes', 'yes', 'yes', 'No', 'No', 'No', 'yes', 'No', 'No', 'No',\n",
       "       'yes', 'No', 'No', 'No', 'No', 'No', 'yes', 'yes', 'yes', 'No',\n",
       "       'yes', 'No', 'No', 'yes', 'No', 'yes', 'No', 'No', 'No', 'No',\n",
       "       'No', 'No', 'No', 'yes', 'No', 'No', 'yes', 'No', 'No', 'yes',\n",
       "       'No', 'No', 'No', 'No', 'No'], dtype=object)"
      ]
     },
     "execution_count": 9,
     "metadata": {},
     "output_type": "execute_result"
    }
   ],
   "source": [
    "#Function to make prediction\n",
    "Pred = entropy_dtc.predict(X_test)\n",
    "Pred"
   ]
  },
  {
   "cell_type": "markdown",
   "id": "65cb2b41",
   "metadata": {},
   "source": [
    "### Accuracy Score\n",
    "\n",
    "\n",
    "\n",
    "**Formular:**\n",
    "\n",
    "Accuracy = (Number of Correct Predictions) / (Total Number of Predictions) X100\n"
   ]
  },
  {
   "cell_type": "code",
   "execution_count": 12,
   "id": "1a307599",
   "metadata": {},
   "outputs": [
    {
     "name": "stdout",
     "output_type": "stream",
     "text": [
      "Accuracy is 90.14285714285715\n"
     ]
    }
   ],
   "source": [
    "#Checking the accuracy\n",
    "score = accuracy_score(Y_test, Pred)*100\n",
    "print('Accuracy is', score)"
   ]
  },
  {
   "cell_type": "markdown",
   "id": "d37b2cd9",
   "metadata": {},
   "source": [
    "A high accuracy score indicates that the model's predictions align well with the true labels, while a lower accuracy score indicates that the model is making more incorrect predictions.\n",
    "\n",
    "The Accutacy of the model is approximately 90%.\n",
    "\n",
    "The bank can use this model gp decode whether it should approve the loan request from customers or not."
   ]
  },
  {
   "cell_type": "code",
   "execution_count": 14,
   "id": "584863ce",
   "metadata": {},
   "outputs": [
    {
     "name": "stdout",
     "output_type": "stream",
     "text": [
      "    Actual Predicted\n",
      "31      No       yes\n",
      "442     No        No\n",
      "604    yes       yes\n",
      "272     No        No\n",
      "373     No        No\n",
      "608     No        No\n",
      "107     No        No\n",
      "348    yes        No\n",
      "173     No        No\n",
      "176     No        No\n"
     ]
    }
   ],
   "source": [
    "#Combine actual and predicted values into a DataFrame\n",
    "result_df = pd.DataFrame({'Actual': Y_test, 'Predicted': Pred})\n",
    "\n",
    "#Display a sample of the DataFrame\n",
    "sample_size = 10 \n",
    "sample = result_df.sample(sample_size)\n",
    "\n",
    "print(sample)"
   ]
  },
  {
   "cell_type": "code",
   "execution_count": null,
   "id": "2cff9a51",
   "metadata": {},
   "outputs": [],
   "source": []
  }
 ],
 "metadata": {
  "kernelspec": {
   "display_name": "Python 3 (ipykernel)",
   "language": "python",
   "name": "python3"
  },
  "language_info": {
   "codemirror_mode": {
    "name": "ipython",
    "version": 3
   },
   "file_extension": ".py",
   "mimetype": "text/x-python",
   "name": "python",
   "nbconvert_exporter": "python",
   "pygments_lexer": "ipython3",
   "version": "3.10.9"
  }
 },
 "nbformat": 4,
 "nbformat_minor": 5
}
